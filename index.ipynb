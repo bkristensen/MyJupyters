{
 "cells": [
  {
   "metadata": {
    "trusted": true
   },
   "cell_type": "code",
   "source": "import os\nimport requests\nfrom bs4 import BeautifulSoup\nfrom tqdm import tqdm\nimport pdfkit\n\nBASE_URL = \"https://wol.jw.org\"\nSTART_URL = \"https://wol.jw.org/da/wol/library/r9/lp-d/alle-publikationer/b%C3%B8ger/hele-skriften-si\"\n\ndef get_chapter_links(start_url):\n    response = requests.get(start_url)\n    soup = BeautifulSoup(response.text, 'html.parser')\n    links = []\n    for a in soup.select('a[href^=\"/da/wol/d/r9/lp-d/\"]'):\n        href = a['href']\n        if href not in links:\n            links.append(href)\n    return links\n\ndef get_article_content(url):\n    response = requests.get(url)\n    soup = BeautifulSoup(response.text, 'html.parser')\n    article = soup.find('article')\n    if article:\n        # Tilføj kapiteloverskrift som H3\n        title_tag = soup.find('h1')\n        title = title_tag.get_text(strip=True) if title_tag else ''\n        return f\"<h3>{title}</h3>\\n{str(article)}\"\n    return ''\n\ndef save_pdf(html_content, output_path):\n    pdfkit.from_string(html_content, output_path)\n\ndef main():\n    print(\"Henter kapitellinks...\")\n    chapter_links = get_chapter_links(START_URL)\n    print(f\"Fundet {len(chapter_links)} kapitler.\")\n\n    all_content = ''\n    for link in tqdm(chapter_links, desc=\"Henter kapitler\"):\n        full_url = BASE_URL + link\n        content = get_article_content(full_url)\n        all_content += content + '<div style=\"page-break-after: always;\"></div>'\n\n    output_dir = \"pdf_output\"\n    os.makedirs(output_dir, exist_ok=True)\n    output_path = os.path.join(output_dir, \"Hele_Skriften_er_inspireret_af_Gud_og_gavnlig.pdf\")\n    print(\"Gemmer PDF...\")\n    save_pdf(all_content, output_path)\n    print(f\"PDF gemt som {output_path}\")\n\nif __name__ == \"__main__\":\n    main()",
   "execution_count": null,
   "outputs": [
    {
     "output_type": "stream",
     "text": "Henter kapitellinks...\nFundet 82 kapitler.\n",
     "name": "stdout"
    },
    {
     "output_type": "stream",
     "text": "Henter kapitler:  33%|███▎      | 27/82 [04:35<09:41, 10.57s/it]",
     "name": "stderr"
    }
   ]
  }
 ],
 "metadata": {
  "kernelspec": {
   "name": "python3",
   "display_name": "Python 3",
   "language": "python"
  },
  "language_info": {
   "name": "python",
   "version": "3.10.4",
   "mimetype": "text/x-python",
   "codemirror_mode": {
    "name": "ipython",
    "version": 3
   },
   "pygments_lexer": "ipython3",
   "nbconvert_exporter": "python",
   "file_extension": ".py"
  }
 },
 "nbformat": 4,
 "nbformat_minor": 2
}